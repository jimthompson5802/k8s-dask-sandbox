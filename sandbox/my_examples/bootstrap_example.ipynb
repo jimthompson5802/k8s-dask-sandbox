{
 "cells": [
  {
   "cell_type": "markdown",
   "metadata": {},
   "source": [
    "# Bootstrap example\n",
    "\n",
    "This notebook demonstrates running a bootstratp analysis using Dask.  \n",
    "\n",
    "Synthentic data is used for this example.  A dataframe is create with 5 attributes, $x_1, x_2, ..., x_5$, each is iid $N(0, 1)$ random variable.  The objective is to determine the mean ($\\mu$) and variance ($\\sigma^2$) of $X = \\sum_{i=1}^{5} x_i$"
   ]
  },
  {
   "cell_type": "code",
   "execution_count": 2,
   "metadata": {},
   "outputs": [],
   "source": [
    "import numpy\n"
   ]
  },
  {
   "cell_type": "code",
   "execution_count": 1,
   "metadata": {},
   "outputs": [],
   "source": [
    "NUMBER_OF_SAMPLES = 100"
   ]
  },
  {
   "cell_type": "code",
   "execution_count": null,
   "metadata": {},
   "outputs": [],
   "source": []
  }
 ],
 "metadata": {
  "kernelspec": {
   "display_name": "Python 3",
   "language": "python",
   "name": "python3"
  },
  "language_info": {
   "codemirror_mode": {
    "name": "ipython",
    "version": 3
   },
   "file_extension": ".py",
   "mimetype": "text/x-python",
   "name": "python",
   "nbconvert_exporter": "python",
   "pygments_lexer": "ipython3",
   "version": "3.8.6"
  }
 },
 "nbformat": 4,
 "nbformat_minor": 4
}
