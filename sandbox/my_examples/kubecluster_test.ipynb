{
 "cells": [
  {
   "cell_type": "code",
   "execution_count": 1,
   "metadata": {},
   "outputs": [],
   "source": [
    "#!pip install dask-kubernetes"
   ]
  },
  {
   "cell_type": "code",
   "execution_count": 2,
   "metadata": {},
   "outputs": [],
   "source": [
    "from dask_kubernetes import KubeCluster"
   ]
  },
  {
   "cell_type": "code",
   "execution_count": 3,
   "metadata": {},
   "outputs": [],
   "source": [
    "spec = {\n",
    "    'kind': 'Pod',\n",
    "    'metadata': {\n",
    "        'labels': {\n",
    "            'foo': 'bar'\n",
    "        }\n",
    "    },\n",
    "    'spec': {\n",
    "        'restartPolicy': 'Never',\n",
    "        'containers': [\n",
    "            {\n",
    "                'image': 'daskdev/dask:latest',\n",
    "                'imagePullPolicy': 'IfNotPresent',\n",
    "                'args': [\n",
    "                    'dask-worker', '--nthreads', '2', '--no-dashboard', \n",
    "                    '--memory-limit', '6GB', '--death-timeout', '60'\n",
    "                ],\n",
    "                'name': 'dask',\n",
    "                'env': [\n",
    "                    {\n",
    "                        'name': 'EXTRA_PIP_PACKAGES',  \n",
    "                         'value': 'git+https://github.com/dask/distributed'\n",
    "                    }\n",
    "                ],\n",
    "                'resources': {\n",
    "                    'limits': {'cpu': 2, 'memory': '6G'},\n",
    "                    'requests': {'cpu': 2, 'memory': '6G'}\n",
    "                }\n",
    "            }\n",
    "        ]\n",
    "    }\n",
    "}"
   ]
  },
  {
   "cell_type": "code",
   "execution_count": 4,
   "metadata": {},
   "outputs": [
    {
     "name": "stderr",
     "output_type": "stream",
     "text": [
      "/opt/conda/lib/python3.8/site-packages/distributed/node.py:151: UserWarning: Port 8787 is already in use.\n",
      "Perhaps you already have a cluster running?\n",
      "Hosting the HTTP server on port 38213 instead\n",
      "  warnings.warn(\n",
      "distributed.scheduler - INFO - Clear task state\n",
      "distributed.scheduler - INFO -   Scheduler at:    tcp://10.1.0.254:40973\n",
      "distributed.scheduler - INFO -   dashboard at:                    :38213\n"
     ]
    },
    {
     "data": {
      "application/vnd.jupyter.widget-view+json": {
       "model_id": "723574dd7edd4fe185c4f9a40d88fc93",
       "version_major": 2,
       "version_minor": 0
      },
      "text/plain": [
       "VBox(children=(HTML(value='<h2>KubeCluster</h2>'), HBox(children=(HTML(value='\\n<div>\\n  <style scoped>\\n    .…"
      ]
     },
     "metadata": {},
     "output_type": "display_data"
    }
   ],
   "source": [
    "# c = KubeCluster.from_yaml('./workers.yaml', namespace='dask-ns')\n",
    "c = KubeCluster.from_dict(spec, namespace='dask-ns')\n",
    "c"
   ]
  },
  {
   "cell_type": "code",
   "execution_count": 5,
   "metadata": {},
   "outputs": [],
   "source": [
    "c.scale(2)"
   ]
  },
  {
   "cell_type": "code",
   "execution_count": 6,
   "metadata": {},
   "outputs": [
    {
     "name": "stdout",
     "output_type": "stream",
     "text": [
      "/bin/bash: netstat: command not found\n"
     ]
    },
    {
     "name": "stderr",
     "output_type": "stream",
     "text": [
      "distributed.scheduler - INFO - Register worker <Worker 'tcp://10.1.1.1:36075', name: 1, memory: 0, processing: 0>\n",
      "distributed.scheduler - INFO - Starting worker compute stream, tcp://10.1.1.1:36075\n",
      "distributed.core - INFO - Starting established connection\n",
      "distributed.scheduler - INFO - Register worker <Worker 'tcp://10.1.1.2:33047', name: 0, memory: 0, processing: 0>\n",
      "distributed.scheduler - INFO - Starting worker compute stream, tcp://10.1.1.2:33047\n",
      "distributed.core - INFO - Starting established connection\n"
     ]
    }
   ],
   "source": [
    "!netstat -an"
   ]
  },
  {
   "cell_type": "code",
   "execution_count": 7,
   "metadata": {},
   "outputs": [
    {
     "name": "stderr",
     "output_type": "stream",
     "text": [
      "distributed.scheduler - INFO - Scheduler closing...\n",
      "distributed.scheduler - INFO - Scheduler closing all comms\n",
      "distributed.scheduler - INFO - Remove worker <Worker 'tcp://10.1.1.1:36075', name: 1, memory: 0, processing: 0>\n",
      "distributed.core - INFO - Removing comms to tcp://10.1.1.1:36075\n",
      "distributed.scheduler - INFO - Remove worker <Worker 'tcp://10.1.1.2:33047', name: 0, memory: 0, processing: 0>\n",
      "distributed.core - INFO - Removing comms to tcp://10.1.1.2:33047\n",
      "distributed.scheduler - INFO - Lost all workers\n"
     ]
    }
   ],
   "source": [
    "c.close()\n"
   ]
  },
  {
   "cell_type": "code",
   "execution_count": null,
   "metadata": {},
   "outputs": [],
   "source": []
  }
 ],
 "metadata": {
  "kernelspec": {
   "display_name": "Python 3",
   "language": "python",
   "name": "python3"
  },
  "language_info": {
   "codemirror_mode": {
    "name": "ipython",
    "version": 3
   },
   "file_extension": ".py",
   "mimetype": "text/x-python",
   "name": "python",
   "nbconvert_exporter": "python",
   "pygments_lexer": "ipython3",
   "version": "3.8.6"
  }
 },
 "nbformat": 4,
 "nbformat_minor": 4
}
